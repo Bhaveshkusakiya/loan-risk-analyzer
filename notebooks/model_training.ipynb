{
 "cells": [
  {
   "cell_type": "code",
   "execution_count": 6,
   "id": "03c90325",
   "metadata": {},
   "outputs": [],
   "source": [
    "import pandas as pd\n",
    "\n",
    "# Load and preprocess data\n",
    "df = pd.read_csv('../data/loan_data.csv')  # correct relative path from notebooks/\n",
    "df.dropna(inplace=True)\n",
    "df = pd.get_dummies(df, drop_first=True)\n",
    "\n",
    "X = df.drop('Loan_Status_Y', axis=1)\n",
    "y = df['Loan_Status_Y']\n"
   ]
  },
  {
   "cell_type": "code",
   "execution_count": 7,
   "id": "0acf0080",
   "metadata": {},
   "outputs": [],
   "source": [
    "df = pd.read_csv('../data/loan_data.csv')\n",
    "df.dropna(inplace=True)\n",
    "\n",
    "# Encode target\n",
    "df['Loan_Status'] = df['Loan_Status'].map({'Y': 1, 'N': 0})\n",
    "\n",
    "X = df[['Gender', 'Married', 'Dependents', 'Education', 'Self_Employed',\n",
    "        'ApplicantIncome', 'LoanAmount', 'Loan_Amount_Term', 'Credit_History', 'Property_Area']]\n",
    "X = pd.get_dummies(X, drop_first=True)\n",
    "\n",
    "y = df['Loan_Status']\n",
    "\n",
    "# Save list of input features for later use in app.py\n",
    "model = RandomForestClassifier()\n",
    "model.fit(X, y)\n",
    "\n",
    "import pickle\n",
    "pickle.dump(model, open('../model/loan_model.pkl', 'wb'))\n"
   ]
  },
  {
   "cell_type": "code",
   "execution_count": null,
   "id": "4330ad62",
   "metadata": {},
   "outputs": [],
   "source": []
  }
 ],
 "metadata": {
  "kernelspec": {
   "display_name": "base",
   "language": "python",
   "name": "python3"
  },
  "language_info": {
   "codemirror_mode": {
    "name": "ipython",
    "version": 3
   },
   "file_extension": ".py",
   "mimetype": "text/x-python",
   "name": "python",
   "nbconvert_exporter": "python",
   "pygments_lexer": "ipython3",
   "version": "3.12.7"
  }
 },
 "nbformat": 4,
 "nbformat_minor": 5
}
